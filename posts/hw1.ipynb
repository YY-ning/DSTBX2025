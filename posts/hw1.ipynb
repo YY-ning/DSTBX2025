{
 "cells": [
  {
   "cell_type": "raw",
   "metadata": {},
   "source": [
    "---\n",
    "title: \"hw1 --  12월 26일 숙제\"\n",
    "author: \"정채연\"\n",
    "date: \"12/26/2024\"\n",
    "---"
   ]
  }
 ],
 "metadata": {
  "language_info": {
   "name": "python"
  }
 },
 "nbformat": 4,
 "nbformat_minor": 2
}
